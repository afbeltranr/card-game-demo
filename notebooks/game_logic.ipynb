{
 "cells": [
  {
   "cell_type": "markdown",
   "metadata": {},
   "source": [
    "# Table of contents\n",
    "\n",
    "1. [Introduction](#introduction)\n",
    "2. [Card](#card)\n",
    "    - [Attributes](#attributes)\n",
    "    - [Card Class](#card-class)\n",
    "3. [Deck](#deck)\n",
    "    - [Important Parts of the Deck Class](#important-parts-of-the-deck-class)\n",
    "    - [Card Colors](#card-colors)\n",
    "4. [Core game Mechanics](#core-game-mechanics)\n",
    "    - [Player Class](#player-class)\n",
    "    - [Methods of the Player Class](#methods-of-the-player-class)\n",
    "5. [Game logic](#game-logic)\n",
    "    - [The game class](#the-game-class)\n",
    "    - [Methods](#methods)\n",
    "```"
   ]
  },
  {
   "cell_type": "markdown",
   "metadata": {},
   "source": [
    "## 🃏 Card\n",
    "- **Attributes**:\n",
    "  - `rank`: The rank of the card (e.g., Ace, 2, 3, 4, ..., Queen, King)\n",
    "  - `suit`: The suit of the card (e.g., Hearts, Diamonds, Clubs, Spades)\n",
    "\n",
    "Using both the `__repr__` and `__str__` methods will give us the best of both worlds: a clear, user-friendly string for players to read, and a more detailed string for developers (me xD) to debug.\n",
    "\n",
    "### 🃏  Card Class\n",
    "\n",
    "In this section, we will dive into the creation of the `Card` class, which represents a single playing card. Here's what we'll cover:\n",
    "\n",
    "- 🛠️ **Constructor (`__init__` method)**: This special method is called automatically when a new instance of the class is created. It initializes the card with a `rank` and a `suit`.\n",
    "\n",
    "- 📦 **Self Parameter**: A reference to the current instance of the class, used to access variables that belong to the class.\n",
    "\n",
    "- 🃏 **Attributes**: The `rank` and `suit` parameters are used to initialize the `Card` object.\n",
    "\n",
    "- 🖨️ **String Representation (`__str__` method)**: Another special method that is called when the `print()` function is used on a `Card` object. This method returns a string representation of the `Card` object.\n",
    "\n",
    "- 🔍 **Developer Representation (`__repr__` method)**: This method is called when the `repr()` function is used on a `Card` object. It returns a detailed string representation of the `Card` object, useful for debugging.\n",
    "\n",
    "Let's get started! 🚀"
   ]
  },
  {
   "cell_type": "code",
   "execution_count": 12,
   "metadata": {},
   "outputs": [],
   "source": [
    "# Step 1: Define the Card class\n",
    "class Card:\n",
    "    def __init__(self, value, suit):\n",
    "        self.value = value\n",
    "        self.suit = suit\n",
    "    \n",
    "    def __repr__(self):\n",
    "        return f\"Card(value='{self.value}', suit='{self.suit}')\"\n",
    "    \n",
    "    def __str__(self):\n",
    "        return f\"Card: {self.value} of {self.suit}\""
   ]
  },
  {
   "cell_type": "markdown",
   "metadata": {},
   "source": [
    "## 🃏 Deck\n",
    "The `Deck` class represents a deck of playing cards. 🃏\n",
    "\n",
    "### Important Parts of the `Deck` Class\n",
    "\n",
    "1. **Attributes**:\n",
    "   - `cards`: A list that holds all the card objects in the deck. 🗂️\n",
    "   - `discard_pile`: A list that holds the cards that have been discarded. 🗑️\n",
    "\n",
    "2. **Methods**:\n",
    "   - `__init__()`: Initializes the deck by creating all 52 cards (values 1-10, J, Q, K, A) and storing them in the `cards` list. The deck is then shuffled. 🛠️\n",
    "   - `draw_card()`: Draws a card from the top of the deck. If the deck is empty, it reshuffles the discard pile back into the deck. 🎴\n",
    "   - `reshuffle()`: Reshuffles the discard pile back into the deck. 🔄\n",
    "   - `add_to_discard(card)`: Adds a card to the discard pile. ➕🗑️\n",
    "   - `top_discard()`: Returns the top card of the discard pile without removing it. 🔝🗑️\n",
    "\n",
    "### Card Colors\n",
    "- Each card has a `color` attribute that is determined by its suit:\n",
    "  - Red for Hearts (♥) and Diamonds (♦)\n",
    "  - Black for Spades (♠) and Clubs (♣)\n",
    "\n"
   ]
  },
  {
   "cell_type": "code",
   "execution_count": 13,
   "metadata": {},
   "outputs": [],
   "source": [
    "import random\n",
    "\n",
    "class Card:\n",
    "    def __init__(self, value, suit):\n",
    "        self.value = value\n",
    "        self.suit = suit\n",
    "        self.color = 'red' if suit in ['♥', '♦'] else 'black'\n",
    "    \n",
    "    def __repr__(self):\n",
    "        return f\"Card(value='{self.value}', suit='{self.suit}', color='{self.color}')\"\n",
    "    \n",
    "    def __str__(self):\n",
    "        return f\"Card: {self.value} of {self.suit} ({self.color})\"\n",
    "\n",
    "class Deck:\n",
    "    def __init__(self):\n",
    "        # Create a standard deck of cards (values 1-10, J, Q, K, A for simplicity)\n",
    "        self.cards = [Card(value, suit) for value in list(range(1, 11)) + ['J', 'Q', 'K', 'A'] \n",
    "                      for suit in ['♠', '♥', '♦', '♣']]\n",
    "        random.shuffle(self.cards)\n",
    "        self.discard_pile = []\n",
    "        \n",
    "    def draw_card(self):\n",
    "        \"\"\"Draws a card from the top of the deck.\"\"\"\n",
    "        if not self.cards:\n",
    "            self.reshuffle()\n",
    "        return self.cards.pop()\n",
    "    \n",
    "    def reshuffle(self):\n",
    "        \"\"\"Reshuffles the discard pile back into the deck.\"\"\"\n",
    "        self.cards = self.discard_pile\n",
    "        self.discard_pile = []\n",
    "        random.shuffle(self.cards)\n",
    "    \n",
    "    def add_to_discard(self, card):\n",
    "        \"\"\"Adds a card to the discard pile.\"\"\"\n",
    "        self.discard_pile.append(card)\n",
    "    \n",
    "    def top_discard(self):\n",
    "        \"\"\"Returns the top card of the discard pile without removing it.\"\"\"\n",
    "        return self.discard_pile[-1] if self.discard_pile else None"
   ]
  },
  {
   "cell_type": "markdown",
   "metadata": {},
   "source": [
    "## Core game Mechanics\n",
    "\n",
    "Here we will describe the player interactions and the flow of the game, and then, include the special rules and player actions:\n",
    "\n",
    "### Player Class 🧑\n",
    "- **Attributes**:\n",
    "  - `name`: The name of the player.\n",
    "  - `hand`: The list of cards in the player's hand.\n",
    "  - `score`: The player's score.\n",
    "  - `is_active`: A boolean value indicating whether the player is active or not.\n",
    "  - `is_winner`: A boolean value indicating whether the player is the winner or not.\n",
    "\n",
    "\n"
   ]
  },
  {
   "cell_type": "code",
   "execution_count": 14,
   "metadata": {},
   "outputs": [],
   "source": [
    "class Player:\n",
    "    def __init__(self, name):\n",
    "        self.name = name\n",
    "        self.hand = []  # Contains four cards: two face-up and two face-down\n",
    "        self.score = 0\n",
    "        self.is_active = True  # Indicates whether the player is active\n",
    "        self.is_winner = False  # Indicates whether the player is the winner\n",
    "        \n",
    "    def draw_from_deck(self, deck):\n",
    "        \"\"\"Draws a card from the deck that is different from the cards in the player's hand.\"\"\"\n",
    "        while True:\n",
    "            drawn_card = deck.draw_card()\n",
    "            if all(drawn_card.value != card.value or drawn_card.suit != card.suit for card in self.hand):\n",
    "                return drawn_card\n",
    "    \n",
    "    def draw_from_discard(self, deck):\n",
    "        \"\"\"Draws the top card from the discard pile.\"\"\"\n",
    "        return deck.draw_card()  # Fix: Remove the card from the discard pile\n",
    "    \n",
    "    def exchange_card(self, card_index, new_card):\n",
    "        \"\"\"Exchanges a card in the player's hand with a new card if it lowers the score.\"\"\"\n",
    "        current_card = self.hand[card_index]\n",
    "        if self.card_value(new_card) < self.card_value(current_card):\n",
    "            self.hand[card_index] = new_card\n",
    "            return current_card\n",
    "        else:\n",
    "            return new_card\n",
    "\n",
    "    def card_value(self, card):\n",
    "        \"\"\"Returns the value of a card for scoring purposes.\"\"\"\n",
    "        if card.value in ['J', 'Q']:\n",
    "            return 10\n",
    "        elif card.value == 'K':\n",
    "            return 0 if card.color == 'red' else 20\n",
    "        elif card.value == 'A':\n",
    "            return 1  # Assign a value for Ace\n",
    "        else:\n",
    "            return int(card.value)  # Ensure integer comparison\n",
    "\n",
    "    def calculate_score(self):\n",
    "        \"\"\"Calculates the score based on the card values and colors.\"\"\"\n",
    "        score = 0\n",
    "        for card in self.hand:\n",
    "            score += self.card_value(card)\n",
    "        return score"
   ]
  },
  {
   "cell_type": "markdown",
   "metadata": {},
   "source": [
    "### Methods of the Player Class:\n",
    "- 🛠️ `__init__(name)`: Initializes the player with a name, an empty hand, a score of 0, and sets the player as active and not a winner.\n",
    "\n",
    "- 🎴 `draw_from_deck(deck)`: Draws a card from the deck and returns it. This method interacts with the `Deck` class to get a card from the top of the deck. The player then decides whether to discard it or exchange it with a known card from their hand if the known card has a greater score.\n",
    "\n",
    "- 🗑️ `draw_from_discard(deck)`: Draws the top card from the discard pile and returns it. This method interacts with the `Deck` class to get the top card from the discard pile.\n",
    "\n",
    "- 🔄 `exchange_card(card_index, new_card)`: Exchanges a card in the player's hand with a new card. The method takes the index of the card to be exchanged and the new card to replace it. It returns the discarded card.\n",
    "\n",
    "- 📊 `calculate_score()`: Calculates the player's score based on the values and colors of the cards in their hand. J and Q have a fixed score of 10. Red K has a score of 0, while Black K has a score of 20. Other cards contribute their face value to the score. The method iterates through each card in the player's hand to compute the total score.\n",
    "\n"
   ]
  },
  {
   "cell_type": "markdown",
   "metadata": {},
   "source": [
    "## Game logic\n",
    "\n",
    "## The `game` class:\n",
    "### Attributes:\n",
    "- `players`: A list of `Player` objects participating in the game.\n",
    "- `deck`: An instance of the `Deck` class representing the deck of cards used in the game.\n",
    "- `current_turn`: An integer representing the index of the player whose turn it is.\n",
    "- `game_ended`: A boolean value indicating whether the game has ended."
   ]
  },
  {
   "cell_type": "code",
   "execution_count": 15,
   "metadata": {},
   "outputs": [],
   "source": [
    "class Game:\n",
    "    def __init__(self, players):\n",
    "        self.players = players\n",
    "        self.deck = Deck()\n",
    "        self.current_turn = 0\n",
    "        self.game_ended = False\n",
    "    \n",
    "    def deal_cards(self):\n",
    "        \"\"\"Deals initial four cards to each player: 2 face-up and 2 face-down.\"\"\"\n",
    "        for player in self.players:\n",
    "            # Each player gets two known and two unknown cards\n",
    "            player.hand = [self.deck.draw_card() for _ in range(4)]\n",
    "    \n",
    "    def take_turn(self, player):\n",
    "        \"\"\"Handles a player's turn: draw, exchange, and manage special rules.\"\"\"\n",
    "        # Example turn logic: choose a card from either the deck or discard pile\n",
    "        print(f\"{player.name}'s turn.\")\n",
    "        # Let's assume player always draws from the deck for now\n",
    "        drawn_card = player.draw_from_deck(self.deck)\n",
    "        print(f\"{player.name} drew a {drawn_card}\")\n",
    "        \n",
    "        # Exchange the drawn card with one from the hand (simplified logic)\n",
    "        discarded = player.exchange_card(0, drawn_card)  # Replace card at index 0 for example\n",
    "        self.deck.add_to_discard(discarded)\n",
    "        print(f\"{player.name} discarded {discarded}\")\n",
    "    \n",
    "    def play_round(self):\n",
    "        \"\"\"Plays one round of the game, where each player gets one turn.\"\"\"\n",
    "        for player in self.players:\n",
    "            self.take_turn(player)\n",
    "            if self.check_end_condition(player):\n",
    "                break\n",
    "    \n",
    "    def check_end_condition(self, player):\n",
    "        \"\"\"Check if a player calls for the game end.\"\"\"\n",
    "        # Simplified end condition for now (can be expanded later)\n",
    "        return False"
   ]
  },
  {
   "cell_type": "markdown",
   "metadata": {},
   "source": [
    "### Methods:\n",
    "- 🛠️ `__init__(players)`: Initializes the game with a list of players, a new deck, sets the current turn to 0, and marks the game as not ended.\n",
    "- 🃏 `deal_cards()`: Deals initial four cards to each player: 2 face-up and 2 face-down.\n",
    "- 🔄 `take_turn(player)`: Handles a player's turn, including drawing a card, exchanging it, and managing special rules.\n",
    "- 🔁 `play_round()`: Plays one round of the game, where each player gets one turn.\n",
    "- ❓ `check_end_condition(player)`: Checks if a player calls for the game end. This is a simplified end condition for now."
   ]
  },
  {
   "cell_type": "markdown",
   "metadata": {},
   "source": [
    "## The Setup\n",
    "- We have two players: Alice and Bob.\n",
    "- The game starts with both players receiving 4 cards each (2 face-up and 2 face-down).\n",
    "- The goal is to simulate one round, where each player gets a turn to draw a card, exchange it, and the round ends.\n",
    "### Step-by-Step Walkthrough of the Game Round\n",
    "\n",
    "1. **Create the `Deck` and `Players`:**\n",
    "\n",
    "    - A new `Deck` is created and shuffled.\n",
    "    - Alice and Bob are instantiated as `Player` objects.\n",
    "    - A `Game` object is created with Alice and Bob as participants.\n"
   ]
  },
  {
   "cell_type": "code",
   "execution_count": 16,
   "metadata": {},
   "outputs": [],
   "source": [
    "deck = Deck()\n",
    "alice = Player(\"Alice\")\n",
    "bob = Player(\"Bob\")\n",
    "players = [alice, bob]\n",
    "game = Game(players)\n"
   ]
  },
  {
   "cell_type": "markdown",
   "metadata": {},
   "source": [
    "\n",
    "2. **Deal Initial Cards:**\n",
    "\n",
    "    - Each player is dealt 4 cards: 2 known (face-up) and 2 unknown (face-down). The known cards are visible only to the player holding them, while the unknown cards are hidden from everyone.\n",
    "\n"
   ]
  },
  {
   "cell_type": "code",
   "execution_count": 17,
   "metadata": {},
   "outputs": [
    {
     "name": "stdout",
     "output_type": "stream",
     "text": [
      "Initial hands:\n",
      "Alice's hand: [Card(value='6', suit='♠', color='black'), Card(value='K', suit='♠', color='black'), Card(value='4', suit='♠', color='black'), Card(value='6', suit='♣', color='black')]\n",
      "Bob's hand: [Card(value='5', suit='♥', color='red'), Card(value='Q', suit='♠', color='black'), Card(value='7', suit='♥', color='red'), Card(value='9', suit='♣', color='black')]\n"
     ]
    }
   ],
   "source": [
    "# Step 2: Deal initial cards\n",
    "game.deal_cards()\n",
    "print(f\"Initial hands:\")\n",
    "print(f\"{alice.name}'s hand: {alice.hand}\")\n",
    "print(f\"{bob.name}'s hand: {bob.hand}\")\n"
   ]
  },
  {
   "cell_type": "markdown",
   "metadata": {},
   "source": [
    "3. **Alice's Turn:**\n",
    "\n",
    "    - Alice decides to draw a card from the deck.\n",
    "    - She draws a 5♠.\n",
    "    - She decides to exchange this drawn card with one of her face-down cards (e.g., she replaces her second face-down card).\n",
    "    - The card she exchanges is added to the discard pile."
   ]
  },
  {
   "cell_type": "code",
   "execution_count": 18,
   "metadata": {},
   "outputs": [
    {
     "name": "stdout",
     "output_type": "stream",
     "text": [
      "Alice draws a Card: 3 of ♥ (red) from the deck.\n",
      "Alice exchanges Card: K of ♠ (black) for Card: 3 of ♥ (red).\n",
      "Alice's new hand: [Card(value='6', suit='♠', color='black'), Card(value='3', suit='♥', color='red'), Card(value='4', suit='♠', color='black'), Card(value='6', suit='♣', color='black')]\n",
      "Top of the discard pile: Card: K of ♠ (black)\n"
     ]
    }
   ],
   "source": [
    "\n",
    "\n",
    "print(f\"{alice.name} draws a {drawn_card} from the deck.\")\n",
    "\n",
    "# Alice decides to replace a card in her hand with the drawn card based on the game logic\n",
    "# For simplicity, let's replace the card with the highest value\n",
    "def card_value_for_comparison(card):\n",
    "    if isinstance(card.value, int):\n",
    "        return card.value\n",
    "    elif card.value in ['J', 'Q', 'K', 'A']:\n",
    "        return {'J': 11, 'Q': 12, 'K': 13, 'A': 14}[card.value]\n",
    "    else:\n",
    "        return int(card.value)\n",
    "\n",
    "highest_value_index = max(range(len(alice.hand)), key=lambda i: card_value_for_comparison(alice.hand[i]))\n",
    "discarded_card = alice.exchange_card(highest_value_index, drawn_card)\n",
    "deck.add_to_discard(discarded_card)\n",
    "\n",
    "print(f\"{alice.name} exchanges {discarded_card} for {drawn_card}.\")\n",
    "print(f\"{alice.name}'s new hand: {alice.hand}\")\n",
    "print(f\"Top of the discard pile: {deck.top_discard()}\")"
   ]
  },
  {
   "cell_type": "markdown",
   "metadata": {},
   "source": [
    "\n",
    "\n",
    "4. **Bob's Turn:**\n",
    "\n",
    "    - Bob decides to draw a card from the discard pile.\n",
    "    - He draws Alice's discarded card (e.g., 5♠).\n",
    "    - He decides to exchange this card with one of his face-down cards (e.g., he replaces his third face-down card).\n",
    "    - His exchanged card is added to the discard pile.\n",
    "\n"
   ]
  },
  {
   "cell_type": "code",
   "execution_count": 19,
   "metadata": {},
   "outputs": [
    {
     "name": "stdout",
     "output_type": "stream",
     "text": [
      "\n",
      "-- Bob's Turn --\n",
      "Bob's initial hand: [Card(value='5', suit='♥', color='red'), Card(value='Q', suit='♠', color='black'), Card(value='7', suit='♥', color='red'), Card(value='9', suit='♣', color='black')]\n",
      "Bob draws a Card: 8 of ♣ (black) from the discard pile.\n",
      "Bob exchanges Card: Q of ♠ (black) for Card: 8 of ♣ (black).\n",
      "Bob's new hand: [Card(value='5', suit='♥', color='red'), Card(value='8', suit='♣', color='black'), Card(value='7', suit='♥', color='red'), Card(value='9', suit='♣', color='black')]\n",
      "Top of the discard pile: Card: Q of ♠ (black)\n"
     ]
    }
   ],
   "source": [
    "print(\"\\n-- Bob's Turn --\")\n",
    "\n",
    "# Use the already dealt hand for Bob\n",
    "print(f\"{bob.name}'s initial hand: {bob.hand}\")\n",
    "\n",
    "# Bob decides to draw a card from the discard pile\n",
    "drawn_card = bob.draw_from_discard(deck)\n",
    "print(f\"{bob.name} draws a {drawn_card} from the discard pile.\")\n",
    "\n",
    "# Bob decides to replace a card in his hand with the drawn card based on the game logic\n",
    "# For simplicity, let's replace the card with the highest value\n",
    "highest_value_index = max(range(len(bob.hand)), key=lambda i: card_value_for_comparison(bob.hand[i]))\n",
    "discarded_card = bob.exchange_card(highest_value_index, drawn_card)\n",
    "deck.add_to_discard(discarded_card)\n",
    "\n",
    "print(f\"{bob.name} exchanges {discarded_card} for {drawn_card}.\")\n",
    "print(f\"{bob.name}'s new hand: {bob.hand}\")\n",
    "print(f\"Top of the discard pile: {deck.top_discard()}\")\n"
   ]
  },
  {
   "cell_type": "markdown",
   "metadata": {},
   "source": [
    "5. **End of Round:**\n",
    "\n",
    "The round ends after each player has taken a turn.\n",
    "\n",
    "scoring is calculated for each player based on the cards in their hand."
   ]
  },
  {
   "cell_type": "code",
   "execution_count": 21,
   "metadata": {},
   "outputs": [
    {
     "name": "stdout",
     "output_type": "stream",
     "text": [
      "Alice's score: 19\n",
      "Bob's score: 29\n",
      "Alice wins!\n"
     ]
    }
   ],
   "source": [
    "# Here we add the scores of both players, Aice and Bob and determine who wins this game:\n",
    "alice_score = alice.calculate_score()\n",
    "bob_score = bob.calculate_score()\n",
    "print(f\"{alice.name}'s score: {alice_score}\")\n",
    "print(f\"{bob.name}'s score: {bob_score}\")\n",
    "\n",
    "if alice_score < bob_score:\n",
    "    alice.is_winner = True\n",
    "    print(f\"{alice.name} wins!\")\n",
    "elif alice_score > bob_score:\n",
    "    bob.is_winner = True\n",
    "    print(f\"{bob.name} wins!\")"
   ]
  }
 ],
 "metadata": {
  "kernelspec": {
   "display_name": "venv",
   "language": "python",
   "name": "python3"
  },
  "language_info": {
   "codemirror_mode": {
    "name": "ipython",
    "version": 3
   },
   "file_extension": ".py",
   "mimetype": "text/x-python",
   "name": "python",
   "nbconvert_exporter": "python",
   "pygments_lexer": "ipython3",
   "version": "3.12.1"
  }
 },
 "nbformat": 4,
 "nbformat_minor": 2
}
